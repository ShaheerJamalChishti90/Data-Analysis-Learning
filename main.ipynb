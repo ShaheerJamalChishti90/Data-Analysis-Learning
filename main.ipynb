{
 "cells": [
  {
   "cell_type": "code",
   "execution_count": 4,
   "metadata": {},
   "outputs": [],
   "source": [
    "import pandas as pd\n",
    "import numpy as np\n"
   ]
  },
  {
   "cell_type": "markdown",
   "metadata": {},
   "source": [
    "Learning bout some basic functions"
   ]
  },
  {
   "cell_type": "code",
   "execution_count": 5,
   "metadata": {},
   "outputs": [],
   "source": [
    "a = pd.read_csv(\"sales_data.csv\")"
   ]
  },
  {
   "cell_type": "code",
   "execution_count": null,
   "metadata": {},
   "outputs": [],
   "source": [
    "a"
   ]
  },
  {
   "cell_type": "code",
   "execution_count": null,
   "metadata": {},
   "outputs": [],
   "source": [
    "a.sample(4, random_state=2)"
   ]
  },
  {
   "cell_type": "code",
   "execution_count": null,
   "metadata": {},
   "outputs": [],
   "source": [
    "a[\"Country\"].nunique()"
   ]
  },
  {
   "cell_type": "code",
   "execution_count": 9,
   "metadata": {},
   "outputs": [],
   "source": [
    "unique_products = a['Product'].unique()\n"
   ]
  },
  {
   "cell_type": "code",
   "execution_count": null,
   "metadata": {},
   "outputs": [],
   "source": [
    "unique_products"
   ]
  },
  {
   "cell_type": "code",
   "execution_count": null,
   "metadata": {},
   "outputs": [],
   "source": [
    "a.info()"
   ]
  },
  {
   "cell_type": "code",
   "execution_count": null,
   "metadata": {},
   "outputs": [],
   "source": [
    "a.describe()"
   ]
  },
  {
   "cell_type": "code",
   "execution_count": null,
   "metadata": {},
   "outputs": [],
   "source": [
    "a.size"
   ]
  },
  {
   "cell_type": "code",
   "execution_count": null,
   "metadata": {},
   "outputs": [],
   "source": [
    "a.shape"
   ]
  },
  {
   "cell_type": "markdown",
   "metadata": {},
   "source": [
    "learning bout loc \n"
   ]
  },
  {
   "cell_type": "code",
   "execution_count": null,
   "metadata": {},
   "outputs": [],
   "source": [
    "a.loc[2] #accessing the 2 row"
   ]
  },
  {
   "cell_type": "code",
   "execution_count": null,
   "metadata": {},
   "outputs": [],
   "source": [
    "a.loc[[25, 50]] #this is how you can access any two row"
   ]
  },
  {
   "cell_type": "code",
   "execution_count": null,
   "metadata": {},
   "outputs": [],
   "source": [
    "a.loc[5:10] #this is how you can see all the rows btwn the given values"
   ]
  },
  {
   "cell_type": "code",
   "execution_count": null,
   "metadata": {},
   "outputs": [],
   "source": [
    "a.loc[0:25, [\"Age_Group\" ,\"Country\", \"State\"]]\n"
   ]
  },
  {
   "cell_type": "code",
   "execution_count": 19,
   "metadata": {},
   "outputs": [],
   "source": [
    "a.index = np.arange(1, 113037)"
   ]
  },
  {
   "cell_type": "code",
   "execution_count": null,
   "metadata": {},
   "outputs": [],
   "source": [
    "a.head(125)"
   ]
  },
  {
   "cell_type": "code",
   "execution_count": null,
   "metadata": {},
   "outputs": [],
   "source": [
    "a.loc[:50, [\"Country\",\"Sub_Category\"]]"
   ]
  },
  {
   "cell_type": "code",
   "execution_count": null,
   "metadata": {},
   "outputs": [],
   "source": [
    "a.loc[100:125, [\"Day\"]] = \"Friday\""
   ]
  },
  {
   "cell_type": "markdown",
   "metadata": {},
   "source": [
    "Learning bout iloc"
   ]
  },
  {
   "cell_type": "code",
   "execution_count": null,
   "metadata": {},
   "outputs": [],
   "source": [
    "a.info()"
   ]
  },
  {
   "cell_type": "code",
   "execution_count": null,
   "metadata": {},
   "outputs": [],
   "source": [
    "#instead of using lables, iloc uses index location \n",
    "a.iloc[0:25, [4, 7, 9, 10, 11]]"
   ]
  },
  {
   "cell_type": "code",
   "execution_count": null,
   "metadata": {},
   "outputs": [],
   "source": [
    "a.iloc[:4, [0, 1, 2, 3]]"
   ]
  },
  {
   "cell_type": "markdown",
   "metadata": {},
   "source": [
    "Learning bout at()"
   ]
  },
  {
   "cell_type": "code",
   "execution_count": null,
   "metadata": {},
   "outputs": [],
   "source": [
    "a.head(50)"
   ]
  },
  {
   "cell_type": "code",
   "execution_count": null,
   "metadata": {},
   "outputs": [],
   "source": [
    "a.at[48, \"Order_Quantity\"]"
   ]
  },
  {
   "cell_type": "code",
   "execution_count": null,
   "metadata": {},
   "outputs": [],
   "source": [
    "a.iat[520, 1] "
   ]
  },
  {
   "cell_type": "markdown",
   "metadata": {},
   "source": [
    "Accessing Data, Grabing Values, sorting, ascending, descending"
   ]
  },
  {
   "cell_type": "code",
   "execution_count": null,
   "metadata": {},
   "outputs": [],
   "source": [
    "a[\"Country\"]"
   ]
  },
  {
   "cell_type": "code",
   "execution_count": null,
   "metadata": {},
   "outputs": [],
   "source": [
    "a.sort_values(\"Customer_Age\", ascending=False)"
   ]
  },
  {
   "cell_type": "code",
   "execution_count": null,
   "metadata": {},
   "outputs": [],
   "source": [
    "a.sort_values(\"Country\") "
   ]
  },
  {
   "cell_type": "code",
   "execution_count": null,
   "metadata": {},
   "outputs": [],
   "source": [
    "a[:25].sort_values([\"Country\", \"Customer_Age\",\"Product\", \"Revenue\"], ascending=[0, 1, 0, 0])"
   ]
  },
  {
   "cell_type": "code",
   "execution_count": null,
   "metadata": {},
   "outputs": [],
   "source": [
    "a[\"Customer_Age\"].describe()"
   ]
  },
  {
   "cell_type": "markdown",
   "metadata": {},
   "source": [
    "Using for loop\n"
   ]
  },
  {
   "cell_type": "code",
   "execution_count": null,
   "metadata": {},
   "outputs": [],
   "source": [
    "for index, row in a.iterrows():\n",
    "    print(index)\n",
    "    print(row[\"Customer_Age\"])\n",
    "    print(\"\\n\\n\\n\")"
   ]
  },
  {
   "cell_type": "markdown",
   "metadata": {},
   "source": [
    "Filtering Data | syntax values, storing values, multiple values, numeric values"
   ]
  },
  {
   "cell_type": "code",
   "execution_count": null,
   "metadata": {},
   "outputs": [],
   "source": [
    "a.info()"
   ]
  },
  {
   "cell_type": "code",
   "execution_count": null,
   "metadata": {},
   "outputs": [],
   "source": [
    "a.loc[a[\"Customer_Age\"] < 25, [\"Customer_Age\", \"Country\"]]"
   ]
  },
  {
   "cell_type": "code",
   "execution_count": 37,
   "metadata": {},
   "outputs": [],
   "source": [
    "abc = a.loc[(a[\"Country\"] == \"France\") & (a[\"Customer_Age\"] < 25) & (a[\"Customer_Gender\"] == \"F\"), [\"Customer_Age\", \"Customer_Gender\", \"Country\", \"Product\", \"Unit_Price\"]].head(50)"
   ]
  },
  {
   "cell_type": "code",
   "execution_count": 38,
   "metadata": {},
   "outputs": [],
   "source": [
    "abcd = abc.sort_values(\"Customer_Age\", ascending=True)"
   ]
  },
  {
   "cell_type": "code",
   "execution_count": 39,
   "metadata": {},
   "outputs": [],
   "source": [
    "abcd.index = np.arange(1, 51)"
   ]
  },
  {
   "cell_type": "code",
   "execution_count": null,
   "metadata": {},
   "outputs": [],
   "source": [
    "abcd"
   ]
  },
  {
   "cell_type": "markdown",
   "metadata": {},
   "source": [
    "Learning String Operations and Regular Expressions\n"
   ]
  },
  {
   "cell_type": "code",
   "execution_count": null,
   "metadata": {},
   "outputs": [],
   "source": [
    "a[a[\"Product\"].str.contains(\"Water Bottle - 30 oz.\", case=False)]"
   ]
  },
  {
   "cell_type": "code",
   "execution_count": null,
   "metadata": {},
   "outputs": [],
   "source": [
    "abcd[\"Product\"].unique()"
   ]
  },
  {
   "cell_type": "code",
   "execution_count": null,
   "metadata": {},
   "outputs": [],
   "source": [
    "a[a[\"Product\"].str.contains(\"Water Bottle - 30 oz.|All-Purpose Bike Stand\", case=False)].head()"
   ]
  },
  {
   "cell_type": "code",
   "execution_count": 73,
   "metadata": {},
   "outputs": [],
   "source": [
    "vc = a[\n",
    "    (a[\"Product\"].str.contains(\"Sport-100 Helmet, Black\"))\n",
    "    & (a[\"Country\"].str.contains(\"United Kingdom\")) \n",
    "    & (a[\"Customer_Age\"] < 25 ) \n",
    "    # & (a[\"Customer_Age\"] < 50) \n",
    "    & (a[\"Customer_Gender\"].str.contains(\"F\"))\n",
    "    ][[\"Product\", \"Sub_Category\", \"Product_Category\", \"Country\", \"Customer_Gender\", \"Customer_Age\"]].head(50)"
   ]
  },
  {
   "cell_type": "code",
   "execution_count": 77,
   "metadata": {},
   "outputs": [],
   "source": [
    "vc  = vc.sort_values(\"Customer_Age\", ascending=True, ignore_index=True)"
   ]
  },
  {
   "cell_type": "code",
   "execution_count": 78,
   "metadata": {},
   "outputs": [
    {
     "data": {
      "text/html": [
       "<div>\n",
       "<style scoped>\n",
       "    .dataframe tbody tr th:only-of-type {\n",
       "        vertical-align: middle;\n",
       "    }\n",
       "\n",
       "    .dataframe tbody tr th {\n",
       "        vertical-align: top;\n",
       "    }\n",
       "\n",
       "    .dataframe thead th {\n",
       "        text-align: right;\n",
       "    }\n",
       "</style>\n",
       "<table border=\"1\" class=\"dataframe\">\n",
       "  <thead>\n",
       "    <tr style=\"text-align: right;\">\n",
       "      <th></th>\n",
       "      <th>Product</th>\n",
       "      <th>Sub_Category</th>\n",
       "      <th>Product_Category</th>\n",
       "      <th>Country</th>\n",
       "      <th>Customer_Gender</th>\n",
       "      <th>Customer_Age</th>\n",
       "    </tr>\n",
       "  </thead>\n",
       "  <tbody>\n",
       "    <tr>\n",
       "      <th>0</th>\n",
       "      <td>Sport-100 Helmet, Black</td>\n",
       "      <td>Helmets</td>\n",
       "      <td>Accessories</td>\n",
       "      <td>United Kingdom</td>\n",
       "      <td>F</td>\n",
       "      <td>18</td>\n",
       "    </tr>\n",
       "    <tr>\n",
       "      <th>1</th>\n",
       "      <td>Sport-100 Helmet, Black</td>\n",
       "      <td>Helmets</td>\n",
       "      <td>Accessories</td>\n",
       "      <td>United Kingdom</td>\n",
       "      <td>F</td>\n",
       "      <td>18</td>\n",
       "    </tr>\n",
       "    <tr>\n",
       "      <th>2</th>\n",
       "      <td>Sport-100 Helmet, Black</td>\n",
       "      <td>Helmets</td>\n",
       "      <td>Accessories</td>\n",
       "      <td>United Kingdom</td>\n",
       "      <td>F</td>\n",
       "      <td>18</td>\n",
       "    </tr>\n",
       "    <tr>\n",
       "      <th>3</th>\n",
       "      <td>Sport-100 Helmet, Black</td>\n",
       "      <td>Helmets</td>\n",
       "      <td>Accessories</td>\n",
       "      <td>United Kingdom</td>\n",
       "      <td>F</td>\n",
       "      <td>18</td>\n",
       "    </tr>\n",
       "    <tr>\n",
       "      <th>4</th>\n",
       "      <td>Sport-100 Helmet, Black</td>\n",
       "      <td>Helmets</td>\n",
       "      <td>Accessories</td>\n",
       "      <td>United Kingdom</td>\n",
       "      <td>F</td>\n",
       "      <td>18</td>\n",
       "    </tr>\n",
       "    <tr>\n",
       "      <th>5</th>\n",
       "      <td>Sport-100 Helmet, Black</td>\n",
       "      <td>Helmets</td>\n",
       "      <td>Accessories</td>\n",
       "      <td>United Kingdom</td>\n",
       "      <td>F</td>\n",
       "      <td>18</td>\n",
       "    </tr>\n",
       "    <tr>\n",
       "      <th>6</th>\n",
       "      <td>Sport-100 Helmet, Black</td>\n",
       "      <td>Helmets</td>\n",
       "      <td>Accessories</td>\n",
       "      <td>United Kingdom</td>\n",
       "      <td>F</td>\n",
       "      <td>18</td>\n",
       "    </tr>\n",
       "    <tr>\n",
       "      <th>7</th>\n",
       "      <td>Sport-100 Helmet, Black</td>\n",
       "      <td>Helmets</td>\n",
       "      <td>Accessories</td>\n",
       "      <td>United Kingdom</td>\n",
       "      <td>F</td>\n",
       "      <td>18</td>\n",
       "    </tr>\n",
       "    <tr>\n",
       "      <th>8</th>\n",
       "      <td>Sport-100 Helmet, Black</td>\n",
       "      <td>Helmets</td>\n",
       "      <td>Accessories</td>\n",
       "      <td>United Kingdom</td>\n",
       "      <td>F</td>\n",
       "      <td>18</td>\n",
       "    </tr>\n",
       "    <tr>\n",
       "      <th>9</th>\n",
       "      <td>Sport-100 Helmet, Black</td>\n",
       "      <td>Helmets</td>\n",
       "      <td>Accessories</td>\n",
       "      <td>United Kingdom</td>\n",
       "      <td>F</td>\n",
       "      <td>18</td>\n",
       "    </tr>\n",
       "    <tr>\n",
       "      <th>10</th>\n",
       "      <td>Sport-100 Helmet, Black</td>\n",
       "      <td>Helmets</td>\n",
       "      <td>Accessories</td>\n",
       "      <td>United Kingdom</td>\n",
       "      <td>F</td>\n",
       "      <td>18</td>\n",
       "    </tr>\n",
       "    <tr>\n",
       "      <th>11</th>\n",
       "      <td>Sport-100 Helmet, Black</td>\n",
       "      <td>Helmets</td>\n",
       "      <td>Accessories</td>\n",
       "      <td>United Kingdom</td>\n",
       "      <td>F</td>\n",
       "      <td>18</td>\n",
       "    </tr>\n",
       "    <tr>\n",
       "      <th>12</th>\n",
       "      <td>Sport-100 Helmet, Black</td>\n",
       "      <td>Helmets</td>\n",
       "      <td>Accessories</td>\n",
       "      <td>United Kingdom</td>\n",
       "      <td>F</td>\n",
       "      <td>18</td>\n",
       "    </tr>\n",
       "    <tr>\n",
       "      <th>13</th>\n",
       "      <td>Sport-100 Helmet, Black</td>\n",
       "      <td>Helmets</td>\n",
       "      <td>Accessories</td>\n",
       "      <td>United Kingdom</td>\n",
       "      <td>F</td>\n",
       "      <td>18</td>\n",
       "    </tr>\n",
       "    <tr>\n",
       "      <th>14</th>\n",
       "      <td>Sport-100 Helmet, Black</td>\n",
       "      <td>Helmets</td>\n",
       "      <td>Accessories</td>\n",
       "      <td>United Kingdom</td>\n",
       "      <td>F</td>\n",
       "      <td>18</td>\n",
       "    </tr>\n",
       "    <tr>\n",
       "      <th>15</th>\n",
       "      <td>Sport-100 Helmet, Black</td>\n",
       "      <td>Helmets</td>\n",
       "      <td>Accessories</td>\n",
       "      <td>United Kingdom</td>\n",
       "      <td>F</td>\n",
       "      <td>18</td>\n",
       "    </tr>\n",
       "    <tr>\n",
       "      <th>16</th>\n",
       "      <td>Sport-100 Helmet, Black</td>\n",
       "      <td>Helmets</td>\n",
       "      <td>Accessories</td>\n",
       "      <td>United Kingdom</td>\n",
       "      <td>F</td>\n",
       "      <td>19</td>\n",
       "    </tr>\n",
       "    <tr>\n",
       "      <th>17</th>\n",
       "      <td>Sport-100 Helmet, Black</td>\n",
       "      <td>Helmets</td>\n",
       "      <td>Accessories</td>\n",
       "      <td>United Kingdom</td>\n",
       "      <td>F</td>\n",
       "      <td>19</td>\n",
       "    </tr>\n",
       "    <tr>\n",
       "      <th>18</th>\n",
       "      <td>Sport-100 Helmet, Black</td>\n",
       "      <td>Helmets</td>\n",
       "      <td>Accessories</td>\n",
       "      <td>United Kingdom</td>\n",
       "      <td>F</td>\n",
       "      <td>19</td>\n",
       "    </tr>\n",
       "    <tr>\n",
       "      <th>19</th>\n",
       "      <td>Sport-100 Helmet, Black</td>\n",
       "      <td>Helmets</td>\n",
       "      <td>Accessories</td>\n",
       "      <td>United Kingdom</td>\n",
       "      <td>F</td>\n",
       "      <td>19</td>\n",
       "    </tr>\n",
       "    <tr>\n",
       "      <th>20</th>\n",
       "      <td>Sport-100 Helmet, Black</td>\n",
       "      <td>Helmets</td>\n",
       "      <td>Accessories</td>\n",
       "      <td>United Kingdom</td>\n",
       "      <td>F</td>\n",
       "      <td>19</td>\n",
       "    </tr>\n",
       "    <tr>\n",
       "      <th>21</th>\n",
       "      <td>Sport-100 Helmet, Black</td>\n",
       "      <td>Helmets</td>\n",
       "      <td>Accessories</td>\n",
       "      <td>United Kingdom</td>\n",
       "      <td>F</td>\n",
       "      <td>19</td>\n",
       "    </tr>\n",
       "    <tr>\n",
       "      <th>22</th>\n",
       "      <td>Sport-100 Helmet, Black</td>\n",
       "      <td>Helmets</td>\n",
       "      <td>Accessories</td>\n",
       "      <td>United Kingdom</td>\n",
       "      <td>F</td>\n",
       "      <td>19</td>\n",
       "    </tr>\n",
       "    <tr>\n",
       "      <th>23</th>\n",
       "      <td>Sport-100 Helmet, Black</td>\n",
       "      <td>Helmets</td>\n",
       "      <td>Accessories</td>\n",
       "      <td>United Kingdom</td>\n",
       "      <td>F</td>\n",
       "      <td>19</td>\n",
       "    </tr>\n",
       "    <tr>\n",
       "      <th>24</th>\n",
       "      <td>Sport-100 Helmet, Black</td>\n",
       "      <td>Helmets</td>\n",
       "      <td>Accessories</td>\n",
       "      <td>United Kingdom</td>\n",
       "      <td>F</td>\n",
       "      <td>19</td>\n",
       "    </tr>\n",
       "    <tr>\n",
       "      <th>25</th>\n",
       "      <td>Sport-100 Helmet, Black</td>\n",
       "      <td>Helmets</td>\n",
       "      <td>Accessories</td>\n",
       "      <td>United Kingdom</td>\n",
       "      <td>F</td>\n",
       "      <td>19</td>\n",
       "    </tr>\n",
       "    <tr>\n",
       "      <th>26</th>\n",
       "      <td>Sport-100 Helmet, Black</td>\n",
       "      <td>Helmets</td>\n",
       "      <td>Accessories</td>\n",
       "      <td>United Kingdom</td>\n",
       "      <td>F</td>\n",
       "      <td>19</td>\n",
       "    </tr>\n",
       "    <tr>\n",
       "      <th>27</th>\n",
       "      <td>Sport-100 Helmet, Black</td>\n",
       "      <td>Helmets</td>\n",
       "      <td>Accessories</td>\n",
       "      <td>United Kingdom</td>\n",
       "      <td>F</td>\n",
       "      <td>19</td>\n",
       "    </tr>\n",
       "    <tr>\n",
       "      <th>28</th>\n",
       "      <td>Sport-100 Helmet, Black</td>\n",
       "      <td>Helmets</td>\n",
       "      <td>Accessories</td>\n",
       "      <td>United Kingdom</td>\n",
       "      <td>F</td>\n",
       "      <td>24</td>\n",
       "    </tr>\n",
       "    <tr>\n",
       "      <th>29</th>\n",
       "      <td>Sport-100 Helmet, Black</td>\n",
       "      <td>Helmets</td>\n",
       "      <td>Accessories</td>\n",
       "      <td>United Kingdom</td>\n",
       "      <td>F</td>\n",
       "      <td>24</td>\n",
       "    </tr>\n",
       "    <tr>\n",
       "      <th>30</th>\n",
       "      <td>Sport-100 Helmet, Black</td>\n",
       "      <td>Helmets</td>\n",
       "      <td>Accessories</td>\n",
       "      <td>United Kingdom</td>\n",
       "      <td>F</td>\n",
       "      <td>24</td>\n",
       "    </tr>\n",
       "    <tr>\n",
       "      <th>31</th>\n",
       "      <td>Sport-100 Helmet, Black</td>\n",
       "      <td>Helmets</td>\n",
       "      <td>Accessories</td>\n",
       "      <td>United Kingdom</td>\n",
       "      <td>F</td>\n",
       "      <td>24</td>\n",
       "    </tr>\n",
       "    <tr>\n",
       "      <th>32</th>\n",
       "      <td>Sport-100 Helmet, Black</td>\n",
       "      <td>Helmets</td>\n",
       "      <td>Accessories</td>\n",
       "      <td>United Kingdom</td>\n",
       "      <td>F</td>\n",
       "      <td>24</td>\n",
       "    </tr>\n",
       "    <tr>\n",
       "      <th>33</th>\n",
       "      <td>Sport-100 Helmet, Black</td>\n",
       "      <td>Helmets</td>\n",
       "      <td>Accessories</td>\n",
       "      <td>United Kingdom</td>\n",
       "      <td>F</td>\n",
       "      <td>24</td>\n",
       "    </tr>\n",
       "    <tr>\n",
       "      <th>34</th>\n",
       "      <td>Sport-100 Helmet, Black</td>\n",
       "      <td>Helmets</td>\n",
       "      <td>Accessories</td>\n",
       "      <td>United Kingdom</td>\n",
       "      <td>F</td>\n",
       "      <td>24</td>\n",
       "    </tr>\n",
       "    <tr>\n",
       "      <th>35</th>\n",
       "      <td>Sport-100 Helmet, Black</td>\n",
       "      <td>Helmets</td>\n",
       "      <td>Accessories</td>\n",
       "      <td>United Kingdom</td>\n",
       "      <td>F</td>\n",
       "      <td>24</td>\n",
       "    </tr>\n",
       "    <tr>\n",
       "      <th>36</th>\n",
       "      <td>Sport-100 Helmet, Black</td>\n",
       "      <td>Helmets</td>\n",
       "      <td>Accessories</td>\n",
       "      <td>United Kingdom</td>\n",
       "      <td>F</td>\n",
       "      <td>24</td>\n",
       "    </tr>\n",
       "    <tr>\n",
       "      <th>37</th>\n",
       "      <td>Sport-100 Helmet, Black</td>\n",
       "      <td>Helmets</td>\n",
       "      <td>Accessories</td>\n",
       "      <td>United Kingdom</td>\n",
       "      <td>F</td>\n",
       "      <td>24</td>\n",
       "    </tr>\n",
       "    <tr>\n",
       "      <th>38</th>\n",
       "      <td>Sport-100 Helmet, Black</td>\n",
       "      <td>Helmets</td>\n",
       "      <td>Accessories</td>\n",
       "      <td>United Kingdom</td>\n",
       "      <td>F</td>\n",
       "      <td>24</td>\n",
       "    </tr>\n",
       "    <tr>\n",
       "      <th>39</th>\n",
       "      <td>Sport-100 Helmet, Black</td>\n",
       "      <td>Helmets</td>\n",
       "      <td>Accessories</td>\n",
       "      <td>United Kingdom</td>\n",
       "      <td>F</td>\n",
       "      <td>24</td>\n",
       "    </tr>\n",
       "    <tr>\n",
       "      <th>40</th>\n",
       "      <td>Sport-100 Helmet, Black</td>\n",
       "      <td>Helmets</td>\n",
       "      <td>Accessories</td>\n",
       "      <td>United Kingdom</td>\n",
       "      <td>F</td>\n",
       "      <td>24</td>\n",
       "    </tr>\n",
       "    <tr>\n",
       "      <th>41</th>\n",
       "      <td>Sport-100 Helmet, Black</td>\n",
       "      <td>Helmets</td>\n",
       "      <td>Accessories</td>\n",
       "      <td>United Kingdom</td>\n",
       "      <td>F</td>\n",
       "      <td>24</td>\n",
       "    </tr>\n",
       "    <tr>\n",
       "      <th>42</th>\n",
       "      <td>Sport-100 Helmet, Black</td>\n",
       "      <td>Helmets</td>\n",
       "      <td>Accessories</td>\n",
       "      <td>United Kingdom</td>\n",
       "      <td>F</td>\n",
       "      <td>24</td>\n",
       "    </tr>\n",
       "    <tr>\n",
       "      <th>43</th>\n",
       "      <td>Sport-100 Helmet, Black</td>\n",
       "      <td>Helmets</td>\n",
       "      <td>Accessories</td>\n",
       "      <td>United Kingdom</td>\n",
       "      <td>F</td>\n",
       "      <td>24</td>\n",
       "    </tr>\n",
       "    <tr>\n",
       "      <th>44</th>\n",
       "      <td>Sport-100 Helmet, Black</td>\n",
       "      <td>Helmets</td>\n",
       "      <td>Accessories</td>\n",
       "      <td>United Kingdom</td>\n",
       "      <td>F</td>\n",
       "      <td>24</td>\n",
       "    </tr>\n",
       "    <tr>\n",
       "      <th>45</th>\n",
       "      <td>Sport-100 Helmet, Black</td>\n",
       "      <td>Helmets</td>\n",
       "      <td>Accessories</td>\n",
       "      <td>United Kingdom</td>\n",
       "      <td>F</td>\n",
       "      <td>24</td>\n",
       "    </tr>\n",
       "  </tbody>\n",
       "</table>\n",
       "</div>"
      ],
      "text/plain": [
       "                    Product Sub_Category Product_Category         Country  \\\n",
       "0   Sport-100 Helmet, Black      Helmets      Accessories  United Kingdom   \n",
       "1   Sport-100 Helmet, Black      Helmets      Accessories  United Kingdom   \n",
       "2   Sport-100 Helmet, Black      Helmets      Accessories  United Kingdom   \n",
       "3   Sport-100 Helmet, Black      Helmets      Accessories  United Kingdom   \n",
       "4   Sport-100 Helmet, Black      Helmets      Accessories  United Kingdom   \n",
       "5   Sport-100 Helmet, Black      Helmets      Accessories  United Kingdom   \n",
       "6   Sport-100 Helmet, Black      Helmets      Accessories  United Kingdom   \n",
       "7   Sport-100 Helmet, Black      Helmets      Accessories  United Kingdom   \n",
       "8   Sport-100 Helmet, Black      Helmets      Accessories  United Kingdom   \n",
       "9   Sport-100 Helmet, Black      Helmets      Accessories  United Kingdom   \n",
       "10  Sport-100 Helmet, Black      Helmets      Accessories  United Kingdom   \n",
       "11  Sport-100 Helmet, Black      Helmets      Accessories  United Kingdom   \n",
       "12  Sport-100 Helmet, Black      Helmets      Accessories  United Kingdom   \n",
       "13  Sport-100 Helmet, Black      Helmets      Accessories  United Kingdom   \n",
       "14  Sport-100 Helmet, Black      Helmets      Accessories  United Kingdom   \n",
       "15  Sport-100 Helmet, Black      Helmets      Accessories  United Kingdom   \n",
       "16  Sport-100 Helmet, Black      Helmets      Accessories  United Kingdom   \n",
       "17  Sport-100 Helmet, Black      Helmets      Accessories  United Kingdom   \n",
       "18  Sport-100 Helmet, Black      Helmets      Accessories  United Kingdom   \n",
       "19  Sport-100 Helmet, Black      Helmets      Accessories  United Kingdom   \n",
       "20  Sport-100 Helmet, Black      Helmets      Accessories  United Kingdom   \n",
       "21  Sport-100 Helmet, Black      Helmets      Accessories  United Kingdom   \n",
       "22  Sport-100 Helmet, Black      Helmets      Accessories  United Kingdom   \n",
       "23  Sport-100 Helmet, Black      Helmets      Accessories  United Kingdom   \n",
       "24  Sport-100 Helmet, Black      Helmets      Accessories  United Kingdom   \n",
       "25  Sport-100 Helmet, Black      Helmets      Accessories  United Kingdom   \n",
       "26  Sport-100 Helmet, Black      Helmets      Accessories  United Kingdom   \n",
       "27  Sport-100 Helmet, Black      Helmets      Accessories  United Kingdom   \n",
       "28  Sport-100 Helmet, Black      Helmets      Accessories  United Kingdom   \n",
       "29  Sport-100 Helmet, Black      Helmets      Accessories  United Kingdom   \n",
       "30  Sport-100 Helmet, Black      Helmets      Accessories  United Kingdom   \n",
       "31  Sport-100 Helmet, Black      Helmets      Accessories  United Kingdom   \n",
       "32  Sport-100 Helmet, Black      Helmets      Accessories  United Kingdom   \n",
       "33  Sport-100 Helmet, Black      Helmets      Accessories  United Kingdom   \n",
       "34  Sport-100 Helmet, Black      Helmets      Accessories  United Kingdom   \n",
       "35  Sport-100 Helmet, Black      Helmets      Accessories  United Kingdom   \n",
       "36  Sport-100 Helmet, Black      Helmets      Accessories  United Kingdom   \n",
       "37  Sport-100 Helmet, Black      Helmets      Accessories  United Kingdom   \n",
       "38  Sport-100 Helmet, Black      Helmets      Accessories  United Kingdom   \n",
       "39  Sport-100 Helmet, Black      Helmets      Accessories  United Kingdom   \n",
       "40  Sport-100 Helmet, Black      Helmets      Accessories  United Kingdom   \n",
       "41  Sport-100 Helmet, Black      Helmets      Accessories  United Kingdom   \n",
       "42  Sport-100 Helmet, Black      Helmets      Accessories  United Kingdom   \n",
       "43  Sport-100 Helmet, Black      Helmets      Accessories  United Kingdom   \n",
       "44  Sport-100 Helmet, Black      Helmets      Accessories  United Kingdom   \n",
       "45  Sport-100 Helmet, Black      Helmets      Accessories  United Kingdom   \n",
       "\n",
       "   Customer_Gender  Customer_Age  \n",
       "0                F            18  \n",
       "1                F            18  \n",
       "2                F            18  \n",
       "3                F            18  \n",
       "4                F            18  \n",
       "5                F            18  \n",
       "6                F            18  \n",
       "7                F            18  \n",
       "8                F            18  \n",
       "9                F            18  \n",
       "10               F            18  \n",
       "11               F            18  \n",
       "12               F            18  \n",
       "13               F            18  \n",
       "14               F            18  \n",
       "15               F            18  \n",
       "16               F            19  \n",
       "17               F            19  \n",
       "18               F            19  \n",
       "19               F            19  \n",
       "20               F            19  \n",
       "21               F            19  \n",
       "22               F            19  \n",
       "23               F            19  \n",
       "24               F            19  \n",
       "25               F            19  \n",
       "26               F            19  \n",
       "27               F            19  \n",
       "28               F            24  \n",
       "29               F            24  \n",
       "30               F            24  \n",
       "31               F            24  \n",
       "32               F            24  \n",
       "33               F            24  \n",
       "34               F            24  \n",
       "35               F            24  \n",
       "36               F            24  \n",
       "37               F            24  \n",
       "38               F            24  \n",
       "39               F            24  \n",
       "40               F            24  \n",
       "41               F            24  \n",
       "42               F            24  \n",
       "43               F            24  \n",
       "44               F            24  \n",
       "45               F            24  "
      ]
     },
     "execution_count": 78,
     "metadata": {},
     "output_type": "execute_result"
    }
   ],
   "source": [
    "vc"
   ]
  },
  {
   "cell_type": "markdown",
   "metadata": {},
   "source": [
    "learning isni function\n"
   ]
  },
  {
   "cell_type": "code",
   "execution_count": null,
   "metadata": {},
   "outputs": [],
   "source": [
    "a[a[\"Country\"].isin([\"United States\", \"United Kingdom\"]) & (a[\"Customer_Age\"] < 25)]"
   ]
  },
  {
   "cell_type": "code",
   "execution_count": null,
   "metadata": {},
   "outputs": [],
   "source": [
    "a.query(\"Customer_Age < 25 and Country == 'Germany'\")"
   ]
  },
  {
   "cell_type": "markdown",
   "metadata": {},
   "source": [
    "Adding/Removing Columns"
   ]
  },
  {
   "cell_type": "code",
   "execution_count": null,
   "metadata": {},
   "outputs": [],
   "source": [
    "a.head(2)"
   ]
  },
  {
   "cell_type": "code",
   "execution_count": 47,
   "metadata": {},
   "outputs": [],
   "source": [
    "import numpy as np\n",
    "a[\"Unit_Cost\"] = np.where(a[\"Product\"] == \"Hitch Rack - 4-Bike\", 50, a[\"Unit_Cost\"] )\n"
   ]
  },
  {
   "cell_type": "code",
   "execution_count": null,
   "metadata": {},
   "outputs": [],
   "source": [
    " #Dropping the Column Revenue:\n",
    "# a.drop(columns=[\"Revenue\"]).head(2)\n",
    "a.tail(50)"
   ]
  },
  {
   "cell_type": "code",
   "execution_count": 49,
   "metadata": {},
   "outputs": [],
   "source": [
    "abc = a.loc[a[\"Product\"] == \"Hitch Rack - 4-Bike\", [\"Country\", \"Product\", \"Unit_Cost\", \"Customer_Age\", \"Customer_Gender\"]].head(50)"
   ]
  },
  {
   "cell_type": "code",
   "execution_count": 50,
   "metadata": {},
   "outputs": [],
   "source": [
    "mimi = a[(a[\"Customer_Gender\"].str.contains(\"F\")) \n",
    "    & (a[\"Country\"] == \"Germany\") \n",
    "    & (a[\"Customer_Age\"] > 15)\n",
    "    & (a[\"Customer_Age\"] < 35)\n",
    "    & (a[\"Product\"] == \"Hitch Rack - 4-Bike\")\n",
    "    ][[\"Country\", \"Product\", \"Unit_Cost\", \"Customer_Age\", \"Customer_Gender\"]]"
   ]
  },
  {
   "cell_type": "code",
   "execution_count": 51,
   "metadata": {},
   "outputs": [],
   "source": [
    "mimi = mimi.sort_values(\"Customer_Age\", ascending=True)"
   ]
  },
  {
   "cell_type": "code",
   "execution_count": null,
   "metadata": {},
   "outputs": [],
   "source": [
    "mimi.reset_index(drop=True)\n"
   ]
  },
  {
   "cell_type": "code",
   "execution_count": null,
   "metadata": {},
   "outputs": [],
   "source": [
    "a[\"Country\"].unique()"
   ]
  },
  {
   "cell_type": "code",
   "execution_count": 54,
   "metadata": {},
   "outputs": [],
   "source": [
    "cf = pd.read_csv(\"coffee.csv\")"
   ]
  },
  {
   "cell_type": "code",
   "execution_count": null,
   "metadata": {},
   "outputs": [],
   "source": [
    "cf.head()"
   ]
  },
  {
   "cell_type": "code",
   "execution_count": 56,
   "metadata": {},
   "outputs": [],
   "source": [
    "import numpy as np\n",
    "\n",
    "cf[\"Price\"] = np.where(cf[\"Coffee Type\"] == \"Latte\", 4.99, 3.99)"
   ]
  },
  {
   "cell_type": "code",
   "execution_count": 57,
   "metadata": {},
   "outputs": [],
   "source": [
    "cf[\"Price\"] = np.where(cf[\"Coffee Type\"] == \"Espresso\", 10.00, cf[\"Price\"])"
   ]
  },
  {
   "cell_type": "code",
   "execution_count": null,
   "metadata": {},
   "outputs": [],
   "source": [
    "cf"
   ]
  },
  {
   "cell_type": "code",
   "execution_count": 59,
   "metadata": {},
   "outputs": [],
   "source": [
    "# cf.drop(columns=[\"Units Sold\"])"
   ]
  },
  {
   "cell_type": "code",
   "execution_count": 60,
   "metadata": {},
   "outputs": [],
   "source": [
    "cf[\"Revenue\"] = cf[\"Price\"] * cf[\"Units Sold\"]"
   ]
  },
  {
   "cell_type": "code",
   "execution_count": 61,
   "metadata": {},
   "outputs": [],
   "source": [
    "cf[\"Unit Original Cost\"] = np.where(cf[\"Coffee Type\"] == \"Espresso\", 4.00, cf[\"Price\"])\n"
   ]
  },
  {
   "cell_type": "code",
   "execution_count": 62,
   "metadata": {},
   "outputs": [],
   "source": [
    "#Creating a new file to save some changes\n",
    "\n",
    "# cf = cf.to_csv(\"Coffee_Shop.csv\", index=False) \n",
    "cf = pd.read_csv(\"Coffee_Shop.csv\")"
   ]
  },
  {
   "cell_type": "code",
   "execution_count": 63,
   "metadata": {},
   "outputs": [],
   "source": [
    "columns = cf.columns.tolist()"
   ]
  },
  {
   "cell_type": "code",
   "execution_count": null,
   "metadata": {},
   "outputs": [],
   "source": [
    "cf.head(2)"
   ]
  },
  {
   "cell_type": "code",
   "execution_count": 65,
   "metadata": {},
   "outputs": [],
   "source": [
    "# new_order = [columns[0], columns[1], columns[2], columns[5], columns[3], columns[4],]  "
   ]
  },
  {
   "cell_type": "code",
   "execution_count": null,
   "metadata": {},
   "outputs": [],
   "source": []
  }
 ],
 "metadata": {
  "kernelspec": {
   "display_name": "Python 3",
   "language": "python",
   "name": "python3"
  },
  "language_info": {
   "codemirror_mode": {
    "name": "ipython",
    "version": 3
   },
   "file_extension": ".py",
   "mimetype": "text/x-python",
   "name": "python",
   "nbconvert_exporter": "python",
   "pygments_lexer": "ipython3",
   "version": "3.12.4"
  }
 },
 "nbformat": 4,
 "nbformat_minor": 2
}
